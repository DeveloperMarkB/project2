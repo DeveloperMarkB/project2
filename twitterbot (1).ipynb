{
 "metadata": {
  "name": "",
  "signature": "sha256:5427777d8126575e5508d712ca576eeeaafd3144c95112434b931e436b098d2e"
 },
 "nbformat": 3,
 "nbformat_minor": 0,
 "worksheets": [
  {
   "cells": [
    {
     "cell_type": "raw",
     "metadata": {},
     "source": [
      "twitter bot"
     ]
    },
    {
     "cell_type": "code",
     "collapsed": false,
     "input": [
      "#!/usr/bin/env python\n",
      "# -*- coding: utf-8 -*-\n",
      "import os\n",
      "import sys\n",
      "import time\n",
      "import json\n",
      "import twitter\n",
      "\n",
      "from twitter.api import Twitter, TwitterError\n",
      "from twitter.oauth import OAuth, write_token_file , read_token_file\n",
      "from twitter.oauth_dance import oauth_dance\n",
      "from urllib2 import URLError\n",
      "from httplib import BadStatusLine\n",
      "\n",
      "def oauth_login():\n",
      "#enter the corresponding information from your Twitter application:\n",
      "    CONSUMER_KEY = 'HMaksVLa2nzMlTY5kBx9CzMDE'#keep the quotes, replace this with your consumer key\n",
      "    CONSUMER_SECRET = 'qrDd0V3sUMqawlrx48Vwc9CIJeLz9rQ0cDCN5KYowLnE4hD21a'#keep the quotes, replace this with your consumer secret key\n",
      "    OAUTH_TOKEN = '2842118577-xi8HolnKAu7MyFfXDCyFhvaYz7iOWKQerbYLT42'#keep the quotes, replace this with your access token\n",
      "    OAUTH_TOKEN_SECRET = 'CAgbcxMqohiW2pJJMZfouYzc40YV2ymuaVKd0x3jq6hso'#keep the quotes, replace this with your access token secret\n",
      "    auth = twitter.oauth.OAuth(OAUTH_TOKEN, OAUTH_TOKEN_SECRET,\n",
      "                               CONSUMER_KEY, CONSUMER_SECRET)\n",
      "    twitter_api = Twitter(auth=auth)\n",
      "    return twitter_api\n"
     ],
     "language": "python",
     "metadata": {},
     "outputs": [],
     "prompt_number": 19
    },
    {
     "cell_type": "code",
     "collapsed": false,
     "input": [
      "def make_twitter_request(twitter_api_func, max_errors=10, *args, **kw): \n",
      "    \n",
      "    def handle_twitter_http_error(e, wait_period=2, sleep_when_rate_limited=True):\n",
      "        if wait_period > 3600: # Seconds\n",
      "            print >> sys.stderr, 'Too many retries. Quitting.'\n",
      "            raise e\n",
      "    \n",
      "        # See https://dev.twitter.com/docs/error-codes-responses for common codes\n",
      "        if e.e.code == 401:\n",
      "            print >> sys.stderr, 'Encountered 401 Error (Not Authorized)'\n",
      "            return None\n",
      "        elif e.e.code == 404:\n",
      "            print >> sys.stderr, 'Encountered 404 Error (Not Found)'\n",
      "            return None\n",
      "        elif e.e.code == 429: \n",
      "            print >> sys.stderr, 'Encountered 429 Error (Rate Limit Exceeded)'\n",
      "            if sleep_when_rate_limited:\n",
      "                print >> sys.stderr, \"Retrying in 15 minutes...ZzZ...\"\n",
      "                sys.stderr.flush()\n",
      "                time.sleep(60*15 + 5)\n",
      "                print >> sys.stderr, '...ZzZ...Awake now and trying again.'\n",
      "                return 2\n",
      "            else:\n",
      "                raise e # Caller must handle the rate limiting issue\n",
      "        elif e.e.code in (500, 502, 503, 504):\n",
      "            print >> sys.stderr, 'Encountered %i Error. Retrying in %i seconds' % \\\n",
      "                (e.e.code, wait_period)\n",
      "            time.sleep(wait_period)\n",
      "            wait_period *= 1.5\n",
      "            return wait_period\n",
      "        else:\n",
      "            raise e\n",
      "    # End of nested helper function\n",
      "    \n",
      "    wait_period = 2 \n",
      "    error_count = 0 \n",
      "\n",
      "    while True:\n",
      "        try:\n",
      "            return twitter_api_func(*args, **kw)\n",
      "        except twitter.api.TwitterHTTPError, e:\n",
      "            error_count = 0 \n",
      "            wait_period = handle_twitter_http_error(e, wait_period)\n",
      "            if wait_period is None:\n",
      "                return\n",
      "        except URLError, e:\n",
      "            error_count += 1\n",
      "            time.sleep(wait_period)\n",
      "            wait_period *= 1.5\n",
      "            print >> sys.stderr, \"URLError encountered. Continuing.\"\n",
      "            if error_count > max_errors:\n",
      "                print >> sys.stderr, \"Too many consecutive errors...bailing out.\"\n",
      "                raise\n",
      "        except BadStatusLine, e:\n",
      "            error_count += 1\n",
      "            time.sleep(wait_period)\n",
      "            wait_period *= 1.5\n",
      "            print >> sys.stderr, \"BadStatusLine encountered. Continuing.\"\n",
      "            if error_count > max_errors:\n",
      "                print >> sys.stderr, \"Too many consecutive errors...bailing out.\"\n",
      "                raise"
     ],
     "language": "python",
     "metadata": {},
     "outputs": [],
     "prompt_number": 20
    },
    {
     "cell_type": "code",
     "collapsed": false,
     "input": [
      "def tweet(status):\n",
      "    '''\n",
      "    updates the status of my twitter account\n",
      "    requires tweepy (https://github.com/joshthecoder/tweepy)\n",
      "    '''\n",
      "    if len(status) > 140:\n",
      "        raise Exception('status message is too long!')\n",
      "    auth = tweepy.OAuthHandler(CONSUMER_KEY, CONSUMER_SECRET)\n",
      "    auth.set_access_token(OAUTH_TOKEN, OAUTH_TOKEN_SECRET)\n",
      "    api = tweepy.API(auth)\n",
      "    result = api.update_status(status)\n",
      "    return result"
     ],
     "language": "python",
     "metadata": {},
     "outputs": [],
     "prompt_number": 21
    },
    {
     "cell_type": "code",
     "collapsed": false,
     "input": [
      "#tweet('Im going to sleep')\n",
      "# send direct message:\n",
      "#t.direct_messages.new(user=\"vincent18713\",text=\"Wassup dude\")"
     ],
     "language": "python",
     "metadata": {},
     "outputs": [],
     "prompt_number": 22
    },
    {
     "cell_type": "code",
     "collapsed": false,
     "input": [
      "def response(message):\n",
      "    return message"
     ],
     "language": "python",
     "metadata": {},
     "outputs": [],
     "prompt_number": 23
    },
    {
     "cell_type": "code",
     "collapsed": false,
     "input": [
      "if __name__ == \"__main__\":\n",
      "\n",
      "\tbot = oauth_login()\n",
      "\tbot_name = '@KidHealthBot' #put your actual bot's name here\n",
      "\t\n",
      "\t#main loop. Just keep searching anyone talking to us\n",
      "\twhile True:\n",
      "\t\ttry:\n",
      "\t\t\tmentions = make_twitter_request(bot.statuses.mentions_timeline)\n",
      "\t\t\t\n",
      "\t\t\tlast_id = -1\n",
      "\t\t\tstatus = make_twitter_request(bot.statuses.user_timeline)\n",
      "\t\t\tif len(status) > 0:\n",
      "\t\t\t\tlast_id = status[0]['in_reply_to_status_id']\n",
      "\n",
      "\t\t\tif not mentions:\n",
      "\t\t\t\tprint \"No one talking to us now...\", time.ctime()\n",
      "\n",
      "\t\t\tfor mention in mentions:\n",
      "\t\t\t\tif mention['id'] != last_id:\n",
      "\t\t\t\t\tmessage = mention['text'].replace(bot_name, '')\n",
      "\t\t\t\t\tspeaker = mention['user']['screen_name']\n",
      "\t\t\t\t\tid = mention['id']\n",
      "\t\t\t\t\tspeaker_id = str(mention['id'])\n",
      "\n",
      "\t\t\t\t\tprint \"[+] \" + speaker + \" is saying \" + message\n",
      "\t\t\t\t\treply = '@%s %s' % (speaker, response(message)) \n",
      "\t\t\t\t\tprint \"[+] Replying \" , reply\n",
      "\t\t\t\t\tbot.statuses.update(status=reply,in_reply_to_status_id=id)\n",
      "\t\t\t\n",
      "\t\t\tsleep_int = 60 #downtime interval in seconds\n",
      "\t\t\tprint \"Sleeping...\\n\"\n",
      "\t\t\ttime.sleep(sleep_int)\n",
      "\t\t\t\n",
      "\t\texcept KeyboardInterrupt:\n",
      "\t\t\tprint\"[!] Cleaning up. Last speaker_id was \", speaker_id\n",
      "\t\t\tsys.exit()"
     ],
     "language": "python",
     "metadata": {},
     "outputs": [
      {
       "output_type": "stream",
       "stream": "stdout",
       "text": [
        "[+] vincent18713 is saying  Hey bot!\n",
        "[+] Replying  @vincent18713  Hey bot!\n",
        "Sleeping...\n"
       ]
      },
      {
       "output_type": "stream",
       "stream": "stdout",
       "text": [
        "\n",
        "Sleeping...\n"
       ]
      }
     ]
    },
    {
     "cell_type": "code",
     "collapsed": false,
     "input": [],
     "language": "python",
     "metadata": {},
     "outputs": []
    }
   ],
   "metadata": {}
  }
 ]
}